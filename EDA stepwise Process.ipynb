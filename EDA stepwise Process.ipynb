{
 "cells": [
  {
   "cell_type": "markdown",
   "id": "ee39e974",
   "metadata": {},
   "source": [
    "# EDA (Exploratory Data Analysis) Process Stepwise"
   ]
  },
  {
   "cell_type": "code",
   "execution_count": null,
   "id": "dea4aaf1",
   "metadata": {},
   "outputs": [],
   "source": [
    "# Download Data set\n",
    "# json format"
   ]
  },
  {
   "cell_type": "code",
   "execution_count": null,
   "id": "d7641eaf",
   "metadata": {},
   "outputs": [],
   "source": [
    "# import important library \n",
    "import pandas as pd\n",
    "import numpy as np\n",
    "import matplotlib.pyplot as plt\n",
    "import seaborn as sns\n",
    "%matpltlib inline"
   ]
  },
  {
   "cell_type": "code",
   "execution_count": null,
   "id": "9c3ebd98",
   "metadata": {},
   "outputs": [],
   "source": [
    "# conver json file into csv(comma seprated file)"
   ]
  },
  {
   "cell_type": "code",
   "execution_count": null,
   "id": "8968fca4",
   "metadata": {},
   "outputs": [],
   "source": [
    "#Step :- import data(read data)\n",
    "        #:- df.head (to analyse data column name, check feature all)\n",
    "    \n",
    "df=pd.read_csv(\"abc.csv\",encoding=\"latin-1\")\n",
    "df.head()"
   ]
  },
  {
   "cell_type": "code",
   "execution_count": null,
   "id": "1b2ae8e5",
   "metadata": {},
   "outputs": [],
   "source": [
    "# to know which columns are in data set\n",
    "\n",
    "df.columns"
   ]
  },
  {
   "cell_type": "code",
   "execution_count": null,
   "id": "d947700d",
   "metadata": {},
   "outputs": [],
   "source": [
    "# understanding of Data Set ( what are columns are there, non null or null , data type,object type(text or categorical data))\n",
    "df.info()"
   ]
  },
  {
   "cell_type": "code",
   "execution_count": null,
   "id": "29d1480d",
   "metadata": {},
   "outputs": [],
   "source": [
    "# use describe :- to specific inforamtion only int or float type not categorical(object type)\n",
    "# Count, Mean, Std, Min, 25%, 50%, 75%, Max\n",
    "df.describe()"
   ]
  },
  {
   "cell_type": "markdown",
   "id": "11898872",
   "metadata": {},
   "source": [
    "## In data nalysis what all thing we do\n",
    "1. Missing Values\n",
    "2. Explore about umerical variable\n",
    "3. Explore about categorical Variables\n",
    "4. finding Realationship between features"
   ]
  },
  {
   "cell_type": "code",
   "execution_count": null,
   "id": "57b19a81",
   "metadata": {},
   "outputs": [],
   "source": [
    "# findinf Missing vaule\n",
    "df.isnull().sum()"
   ]
  },
  {
   "cell_type": "code",
   "execution_count": null,
   "id": "1576a302",
   "metadata": {},
   "outputs": [],
   "source": [
    "# finding missing value (other method)\n",
    "[features for features in df.columns if df[features].isnull.sum()>1]"
   ]
  },
  {
   "cell_type": "code",
   "execution_count": null,
   "id": "6375270c",
   "metadata": {},
   "outputs": [],
   "source": [
    "# heatmap\n",
    "sns.heatmap(df.isnull(),yticklabels=False,cbar=False,cmap)"
   ]
  },
  {
   "cell_type": "markdown",
   "id": "f02c992e",
   "metadata": {},
   "source": [
    "## if two data set is their and need to mearge data set to previous data set "
   ]
  },
  {
   "cell_type": "code",
   "execution_count": null,
   "id": "fb31fc73",
   "metadata": {},
   "outputs": [],
   "source": [
    "# on = basicly on which basis you join two table\n",
    "final_df= pd.merge(df,df1, on= \"feature_name(common)\",how='left'(right,inner etc))\n",
    "final_df.head()"
   ]
  },
  {
   "cell_type": "markdown",
   "id": "82440f5f",
   "metadata": {},
   "source": [
    "## to check data types"
   ]
  },
  {
   "cell_type": "markdown",
   "id": "fee4dd09",
   "metadata": {},
   "source": [
    "final_df.dtypes"
   ]
  },
  {
   "cell_type": "code",
   "execution_count": null,
   "id": "6a509178",
   "metadata": {},
   "outputs": [],
   "source": [
    "# use value_counts()\n",
    "final_df.feature_name.value_counts()"
   ]
  },
  {
   "cell_type": "code",
   "execution_count": null,
   "id": "5e3957a3",
   "metadata": {},
   "outputs": [],
   "source": [
    "# feature_name in list\n",
    "feature=final_df.feature_name.value_counts().index"
   ]
  },
  {
   "cell_type": "code",
   "execution_count": null,
   "id": "1cac24b5",
   "metadata": {},
   "outputs": [],
   "source": [
    "# pie chart creation\n",
    "plt.pie(x(feature),labels=feature_name)"
   ]
  },
  {
   "cell_type": "code",
   "execution_count": null,
   "id": "1291e64a",
   "metadata": {},
   "outputs": [],
   "source": [
    "# need top 3 feature , autopct require for percentage visualization \n",
    "plt.pie(x[:3],lable=Feature[:3],autopct='%1.1f%%')"
   ]
  },
  {
   "cell_type": "markdown",
   "id": "acd86e4b",
   "metadata": {},
   "source": [
    "write down observation:-"
   ]
  },
  {
   "cell_type": "code",
   "execution_count": null,
   "id": "747b5995",
   "metadata": {},
   "outputs": [],
   "source": [
    "a= final_df.groupby([Feature names]).size().reset_index().rename(columns={0:'required name'})"
   ]
  },
  {
   "cell_type": "code",
   "execution_count": null,
   "id": "87e3f766",
   "metadata": {},
   "outputs": [],
   "source": [
    "a"
   ]
  },
  {
   "cell_type": "markdown",
   "id": "f1bfc7be",
   "metadata": {},
   "source": [
    "# observation"
   ]
  },
  {
   "cell_type": "code",
   "execution_count": null,
   "id": "a3e7dc59",
   "metadata": {},
   "outputs": [],
   "source": [
    "# visualization in bar \n",
    "#rcParma - change in parameter\n",
    "import matplotlib\n",
    "matplotlib.rcParams['figure.figsize'] = (12,6)\n",
    "sns.barplot(x=\"feature_name\",y=\"feature_name\",data=\"feature on which basis\")"
   ]
  },
  {
   "cell_type": "code",
   "execution_count": null,
   "id": "78f12dca",
   "metadata": {},
   "outputs": [],
   "source": [
    "# observation :-"
   ]
  },
  {
   "cell_type": "code",
   "execution_count": null,
   "id": "447ed0bb",
   "metadata": {},
   "outputs": [],
   "source": [
    "## count plot\n",
    "sns.countplot(x=\"feature_name\",data=\"feature\")"
   ]
  },
  {
   "cell_type": "code",
   "execution_count": null,
   "id": "42c281a2",
   "metadata": {},
   "outputs": [],
   "source": [
    "# creat pie chart\n",
    "#ex:-\n",
    "city_value=df.city.value_counts().values\n",
    "city_lable= df.city.value_counts().index\n",
    "plt.pie(city_value[:5],labels=city_lable[:5],autopct='%1.2f%%')"
   ]
  },
  {
   "cell_type": "markdown",
   "id": "d60b2188",
   "metadata": {},
   "source": [
    "# cleaning and preaparing data for model training"
   ]
  },
  {
   "cell_type": "code",
   "execution_count": null,
   "id": "8d88a146",
   "metadata": {},
   "outputs": [],
   "source": [
    "# import imp libraray\n",
    "import pandas as pd\n",
    "import numpy as np\n",
    "import matplotlib.pyplot as plt\n",
    "import seaborn as sns\n",
    "%matplotlib inline"
   ]
  },
  {
   "cell_type": "code",
   "execution_count": null,
   "id": "b3eee1ec",
   "metadata": {},
   "outputs": [],
   "source": [
    "# import the data set"
   ]
  },
  {
   "cell_type": "code",
   "execution_count": null,
   "id": "f8d2ff28",
   "metadata": {},
   "outputs": [],
   "source": [
    "df=pd.read_csv(\"Name of file.csv\")\n",
    "df.head()"
   ]
  },
  {
   "cell_type": "code",
   "execution_count": null,
   "id": "2e8d8648",
   "metadata": {},
   "outputs": [],
   "source": [
    "# to join(merge) data from different data set\n",
    "df=df1.append(df2)\n",
    "df"
   ]
  },
  {
   "cell_type": "code",
   "execution_count": null,
   "id": "9a6033b3",
   "metadata": {},
   "outputs": [],
   "source": [
    "#Basic\n",
    "df.info()"
   ]
  },
  {
   "cell_type": "code",
   "execution_count": null,
   "id": "3d05b6b0",
   "metadata": {},
   "outputs": [],
   "source": [
    "df.describe()"
   ]
  },
  {
   "cell_type": "code",
   "execution_count": null,
   "id": "2c9f9d29",
   "metadata": {},
   "outputs": [],
   "source": [
    "# drop any feature\n",
    "df.drop([\"feature_name\"],axis=1,inplace=True)"
   ]
  },
  {
   "cell_type": "code",
   "execution_count": null,
   "id": "b949d971",
   "metadata": {},
   "outputs": [],
   "source": [
    "#Handling Categorical Feature\n",
    "# fix categorical Feature convert into numerical\n",
    "#using get_dummies\n",
    "# using one hot encoding\n",
    "\n",
    "df[\"Feature_name\"].unique()\n",
    "df1= pd.get_dummies(df[\"Feature_name\"])\n",
    "df=pd.concat([df,df1],axis=1)\n",
    "df.head()\n",
    "\n",
    "# ORRRRRRRRRR\n",
    "\n",
    "#another Method using map method\n",
    "df[\"Feature_name\"]=df[\"Feature_name\"].map({\"F\":0,\"M\":1})\n",
    "df.head()\n",
    "\n",
    "#ORRRRRR\n",
    "\n",
    "# we can use lable encoding\n",
    "\n",
    "from sklearn import preprocessing\n",
    "# label_encoder object knows how to understand word label \n",
    "label_encoder = preprocessing.LabelEncoder()\n",
    "# Encoder Label in column Feature_name\n",
    "df[\"Feature_name\"] = label_encoder.fit_transform(df[\"Feature_name\"])\n",
    "df[\"Feature_name\"].unique()"
   ]
  },
  {
   "cell_type": "code",
   "execution_count": null,
   "id": "732e8023",
   "metadata": {},
   "outputs": [],
   "source": [
    "# check Mising Value\n",
    "df.isnull().sum()"
   ]
  },
  {
   "cell_type": "code",
   "execution_count": null,
   "id": "4c2b6193",
   "metadata": {},
   "outputs": [],
   "source": [
    "# Replacing Missing Values\n",
    "\n",
    "# step 1\n",
    "df[\"Feature_name\"].unique()\n",
    "\n",
    "# Setp 2 :- observe (categorical, continues like that we categorical use mode)\n",
    "\n",
    "# step3 use Value counts for getting idea\n",
    "df[\"Feature_name\"].Value_counts\n",
    "\n",
    "# step 4\n",
    "# If categorical feature or discreate value replace the missing value with mode if other use mean or median\n",
    "df[\"Feature_name\"].mode()[0]\n",
    "df[\"Feature_name\"]=df[\"Feature_name\"].fillna(df[\"Feature_name\"]).mode()[0]\n",
    "\n",
    "# step 5 \n",
    "# checking\n",
    "df[\"Feature_name\"].isna().sum()"
   ]
  },
  {
   "cell_type": "code",
   "execution_count": null,
   "id": "2f091854",
   "metadata": {},
   "outputs": [],
   "source": [
    "# use replace \n",
    "df[\"Feature_name\"].str.replace(\"Male\",1)"
   ]
  },
  {
   "cell_type": "code",
   "execution_count": null,
   "id": "2e2e630a",
   "metadata": {},
   "outputs": [],
   "source": [
    "# now observe categorical or int(float)\n",
    "df.info()\n",
    "\n",
    "# after observing data type if categorical is there convert into int or float\n",
    "# convert object into int\n",
    "df[\"Feature_name\"] = df[\"Feature_name\"].astype(int)\n",
    "\n",
    "df.info()"
   ]
  },
  {
   "cell_type": "code",
   "execution_count": null,
   "id": "3b7d35b5",
   "metadata": {},
   "outputs": [],
   "source": [
    "# visualization \n",
    "sns.paiplot(df)"
   ]
  },
  {
   "cell_type": "code",
   "execution_count": null,
   "id": "00938f7a",
   "metadata": {},
   "outputs": [],
   "source": [
    "sns.barplot(\"Feature_name1\",\"Feature_name2\",hue=\"Feature_name\",data=df)"
   ]
  },
  {
   "cell_type": "code",
   "execution_count": null,
   "id": "ba25d28c",
   "metadata": {},
   "outputs": [],
   "source": [
    "# Train test split\n",
    "x=df_train[:-1]\n",
    "or\n",
    "x=df_train.drop(\"ouput\",axis=1)\n",
    "x.head()"
   ]
  },
  {
   "cell_type": "code",
   "execution_count": null,
   "id": "5e358751",
   "metadata": {},
   "outputs": [],
   "source": [
    "y=df['Train test split']\n",
    "or\n",
    "y=df_train[-1]\n",
    "y.head()"
   ]
  },
  {
   "cell_type": "code",
   "execution_count": null,
   "id": "7161bd9a",
   "metadata": {},
   "outputs": [],
   "source": [
    "# Train test split\n",
    "\n",
    "from sklearn.model_selection import train_test_split\n",
    "x_train,x_test,y_train,y_test = train_test_split(x,y, test_size=0.33, random_state=42)"
   ]
  },
  {
   "cell_type": "code",
   "execution_count": null,
   "id": "98203342",
   "metadata": {},
   "outputs": [],
   "source": [
    "# Feature Scaling\n",
    "\n",
    "from sklearn.preprocessing import standardScaler\n",
    "\n",
    "sc=SatandardScaler()\n",
    "\n",
    "x_train= sc.fit_transform(x_train)\n",
    "x_test= sc.fit_transform(x_test)\n"
   ]
  },
  {
   "cell_type": "code",
   "execution_count": null,
   "id": "85417571",
   "metadata": {},
   "outputs": [],
   "source": [
    "## train ur model using algorithm"
   ]
  }
 ],
 "metadata": {
  "kernelspec": {
   "display_name": "Python 3 (ipykernel)",
   "language": "python",
   "name": "python3"
  },
  "language_info": {
   "codemirror_mode": {
    "name": "ipython",
    "version": 3
   },
   "file_extension": ".py",
   "mimetype": "text/x-python",
   "name": "python",
   "nbconvert_exporter": "python",
   "pygments_lexer": "ipython3",
   "version": "3.9.7"
  }
 },
 "nbformat": 4,
 "nbformat_minor": 5
}
